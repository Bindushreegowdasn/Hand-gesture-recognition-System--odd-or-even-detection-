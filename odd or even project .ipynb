{
 "cells": [
  {
   "cell_type": "code",
   "execution_count": null,
   "metadata": {},
   "outputs": [],
   "source": [
    "import cv2\n",
    "import mediapipe as mp\n",
    "\n",
    "def count_fingers(hand_landmarks):\n",
    "    fingers = [\n",
    "        hand_landmarks.landmark[8].y < hand_landmarks.landmark[6].y,  # Index finger\n",
    "        hand_landmarks.landmark[12].y < hand_landmarks.landmark[10].y, # Middle finger\n",
    "        hand_landmarks.landmark[16].y < hand_landmarks.landmark[14].y, # Ring finger\n",
    "        hand_landmarks.landmark[20].y < hand_landmarks.landmark[18].y, # Pinky finger\n",
    "    ]\n",
    "    thumb = hand_landmarks.landmark[4].x < hand_landmarks.landmark[3].x # Thumb logic\n",
    "    fingers.insert(0, thumb)\n",
    "    return sum(fingers)\n",
    "\n",
    "mp_hands = mp.solutions.hands\n",
    "mp_drawing = mp.solutions.drawing_utils\n",
    "cap = cv2.VideoCapture(0)\n",
    "\n",
    "with mp_hands.Hands(min_detection_confidence=0.5, min_tracking_confidence=0.5) as hands:\n",
    "    while cap.isOpened():\n",
    "        ret, frame = cap.read()\n",
    "        if not ret:\n",
    "            break\n",
    "        frame = cv2.flip(frame, 1)\n",
    "        rgb_frame = cv2.cvtColor(frame, cv2.COLOR_BGR2RGB)\n",
    "        result = hands.process(rgb_frame)\n",
    "        if result.multi_hand_landmarks:\n",
    "            for hand_landmarks in result.multi_hand_landmarks:\n",
    "                fingers_count = count_fingers(hand_landmarks)\n",
    "                result_text = \"Even\" if fingers_count % 2 == 0 else \"Odd\"\n",
    "                cv2.putText(frame, f\"Fingers: {fingers_count} ({result_text})\", (50, 50),\n",
    "                            cv2.FONT_HERSHEY_SIMPLEX, 1, (0, 255, 0), 2, cv2.LINE_AA)\n",
    "                mp_drawing.draw_landmarks(frame, hand_landmarks, mp_hands.HAND_CONNECTIONS)\n",
    "        cv2.imshow(\"Hand Gesture Recognition\", frame)\n",
    "        if cv2.waitKey(1) & 0xFF == ord('q'):\n",
    "            break\n",
    "cap.release()\n",
    "cv2.destroyAllWindows()\n"
   ]
  },
  {
   "cell_type": "code",
   "execution_count": null,
   "metadata": {},
   "outputs": [],
   "source": []
  },
  {
   "cell_type": "code",
   "execution_count": null,
   "metadata": {},
   "outputs": [],
   "source": []
  }
 ],
 "metadata": {
  "kernelspec": {
   "display_name": "Python 3",
   "language": "python",
   "name": "python3"
  },
  "language_info": {
   "codemirror_mode": {
    "name": "ipython",
    "version": 3
   },
   "file_extension": ".py",
   "mimetype": "text/x-python",
   "name": "python",
   "nbconvert_exporter": "python",
   "pygments_lexer": "ipython3",
   "version": "3.8.5"
  }
 },
 "nbformat": 4,
 "nbformat_minor": 4
}
